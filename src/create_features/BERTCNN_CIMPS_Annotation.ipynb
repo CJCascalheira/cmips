{
 "cells": [
  {
   "cell_type": "code",
   "execution_count": 85,
   "metadata": {
    "id": "XhlhfaJ6iGjQ"
   },
   "outputs": [],
   "source": [
    "!pip install transformers\n",
    "!pip install torchtext==0.6"
   ]
  },
  {
   "cell_type": "code",
   "execution_count": 86,
   "metadata": {
    "id": "PfnMCfWBiWHa"
   },
   "outputs": [],
   "source": [
    "from torchtext.data import Field, TabularDataset, BucketIterator,LabelField\n",
    "import torch\n",
    "import random\n",
    "import numpy as np\n",
    "import matplotlib.pyplot as plt\n",
    "import time\n",
    "import pandas as pd\n",
    "SEED = 1234\n",
    "random.seed(SEED)\n",
    "np.random.seed(SEED)\n",
    "torch.manual_seed(SEED)\n",
    "torch.backends.cudnn.deterministic = True\n"
   ]
  },
  {
   "cell_type": "code",
   "execution_count": 87,
   "metadata": {
    "colab": {
     "base_uri": "https://localhost:8080/"
    },
    "id": "t3lQgtil70_x",
    "outputId": "e7c7443d-f688-4be4-bd30-2853e88e82e7"
   },
   "outputs": [
    {
     "name": "stdout",
     "output_type": "stream",
     "text": [
      "12.1\n",
      "2.2.1+cu121\n",
      "3.10.12 (main, Nov 20 2023, 15:14:05) [GCC 11.4.0]\n",
      "1.25.2\n",
      "2.0.3\n"
     ]
    }
   ],
   "source": [
    "print(torch.version.cuda)\n",
    "print(torch.__version__)\n",
    "import sys\n",
    "print(sys.version)\n",
    "print(np.__version__)\n",
    "print(pd.__version__)\n"
   ]
  },
  {
   "cell_type": "code",
   "execution_count": 88,
   "metadata": {
    "id": "ZJ-OEPc50Glt"
   },
   "outputs": [],
   "source": [
    "from transformers import BertTokenizer\n",
    "tokenizer = BertTokenizer.from_pretrained('bert-base-uncased')"
   ]
  },
  {
   "cell_type": "code",
   "execution_count": 89,
   "metadata": {
    "colab": {
     "base_uri": "https://localhost:8080/"
    },
    "id": "HcDvLMwv0KjC",
    "outputId": "e0a53bc9-fc92-457e-83a4-b9ab59c20b38"
   },
   "outputs": [
    {
     "name": "stdout",
     "output_type": "stream",
     "text": [
      "[CLS] [SEP] [PAD] [UNK]\n",
      "101 102 0 100\n",
      "101 102 0 100\n"
     ]
    }
   ],
   "source": [
    "init_token = tokenizer.cls_token\n",
    "eos_token = tokenizer.sep_token\n",
    "pad_token = tokenizer.pad_token\n",
    "unk_token = tokenizer.unk_token\n",
    "\n",
    "print(init_token, eos_token, pad_token, unk_token)\n",
    "\n",
    "init_token_idx = tokenizer.convert_tokens_to_ids(init_token)\n",
    "eos_token_idx = tokenizer.convert_tokens_to_ids(eos_token)\n",
    "pad_token_idx = tokenizer.convert_tokens_to_ids(pad_token)\n",
    "unk_token_idx = tokenizer.convert_tokens_to_ids(unk_token)\n",
    "\n",
    "print(init_token_idx, eos_token_idx, pad_token_idx, unk_token_idx)\n",
    "\n",
    "\n",
    "init_token_idx = tokenizer.cls_token_id\n",
    "eos_token_idx = tokenizer.sep_token_id\n",
    "pad_token_idx = tokenizer.pad_token_id\n",
    "unk_token_idx = tokenizer.unk_token_id\n",
    "\n",
    "print(init_token_idx, eos_token_idx, pad_token_idx, unk_token_idx)"
   ]
  },
  {
   "cell_type": "code",
   "execution_count": 90,
   "metadata": {
    "id": "hQxqXygH0NJp"
   },
   "outputs": [],
   "source": [
    "max_input_length = 512 #tokenizer.max_model_input_sizes['bert-base-uncased']\n",
    "#print(max_input_length)"
   ]
  },
  {
   "cell_type": "code",
   "execution_count": 91,
   "metadata": {
    "id": "V2d51w6y0Ptt"
   },
   "outputs": [],
   "source": [
    "def tokenize_and_cut(sentence):\n",
    "    tokens = tokenizer.tokenize(sentence)\n",
    "    tokens = tokens[:max_input_length-2]\n",
    "    return tokens"
   ]
  },
  {
   "cell_type": "code",
   "execution_count": 92,
   "metadata": {
    "colab": {
     "base_uri": "https://localhost:8080/"
    },
    "id": "hL7KpgpBiJ_O",
    "outputId": "d475b882-ec9e-40e2-fab5-cc655e755e05"
   },
   "outputs": [
    {
     "name": "stdout",
     "output_type": "stream",
     "text": [
      "text     0\n",
      "label    0\n",
      "dtype: int64\n",
      "text     0\n",
      "label    0\n",
      "dtype: int64\n"
     ]
    }
   ],
   "source": [
    "\n",
    "device = torch.device('cuda' if torch.cuda.is_available() else 'cpu')\n",
    "\n",
    "# Load the original dataset\n",
    "df = pd.read_csv('missom_annotated.csv')\n",
    "df = df.rename(columns={'label_minority_coping': 'label'})\n",
    "df = df[['text', 'label']]\n",
    "\n",
    "empty_cells =  df.isnull().sum()\n",
    "print(empty_cells)\n",
    "df.dropna(inplace = True)\n",
    "\n",
    "empty_cells =  df.isnull().sum()\n",
    "print(empty_cells)\n"
   ]
  },
  {
   "cell_type": "code",
   "execution_count": 93,
   "metadata": {
    "id": "fkS38gY0jc4f"
   },
   "outputs": [],
   "source": [
    "from sklearn.model_selection import train_test_split\n",
    "\n",
    "train_ratio = 0.70\n",
    "valid_ratio = 0.15\n",
    "test_ratio = 0.15\n",
    "\n",
    "train_df, remaining_df = train_test_split(df, test_size=1 - train_ratio, random_state=random.seed(SEED))\n",
    "valid_df, test_df = train_test_split(remaining_df, test_size=test_ratio/(valid_ratio + test_ratio), random_state=random.seed(SEED))\n",
    "\n",
    "# Save the dataframes to CSV files\n",
    "train_df.to_csv('train.csv', index=False)\n",
    "test_df.to_csv('test.csv', index=False)\n",
    "valid_df.to_csv('valid.csv', index=False)"
   ]
  },
  {
   "cell_type": "code",
   "execution_count": 94,
   "metadata": {
    "id": "6zwNO5T5Aj8T"
   },
   "outputs": [],
   "source": [
    "TEXT = Field(batch_first = True,\n",
    "                  use_vocab = False,\n",
    "                  tokenize = tokenize_and_cut,\n",
    "                  preprocessing = tokenizer.convert_tokens_to_ids,\n",
    "                  init_token = init_token_idx,\n",
    "                  eos_token = eos_token_idx,\n",
    "                  pad_token = pad_token_idx,\n",
    "                  unk_token = unk_token_idx)\n",
    "\n",
    "LABEL = LabelField(dtype = torch.float)"
   ]
  },
  {
   "cell_type": "code",
   "execution_count": 95,
   "metadata": {
    "colab": {
     "base_uri": "https://localhost:8080/"
    },
    "id": "8pI_-jnRAkEm",
    "outputId": "8fc5f360-8426-42a2-8d16-bb20f3be2b94"
   },
   "outputs": [
    {
     "name": "stdout",
     "output_type": "stream",
     "text": [
      "Number of training examples: 4052\n",
      "Number of Validation examples: 868\n",
      "Number of testing examples: 869\n",
      "<torchtext.data.example.Example object at 0x7c7417595cc0>\n"
     ]
    }
   ],
   "source": [
    "# Load the data\n",
    "train_data,valid_data, test_data = TabularDataset.splits(\n",
    "    path= '/content/',\n",
    "    train='train.csv',\n",
    "    validation='valid.csv',\n",
    "    test='test.csv',\n",
    "    format='csv',\n",
    "    fields=[('text', TEXT), ('label', LABEL)],\n",
    "    skip_header=True\n",
    ")\n",
    "print('Number of training examples: {}'.format(len(train_data)))\n",
    "print('Number of Validation examples: {}'.format(len(valid_data)))\n",
    "print('Number of testing examples: {}'.format(len(test_data)))\n",
    "print(train_data[0])"
   ]
  },
  {
   "cell_type": "code",
   "execution_count": 96,
   "metadata": {
    "id": "MJ6EMiMEiKTN"
   },
   "outputs": [],
   "source": [
    "\n",
    "TEXT.build_vocab(train_data, min_freq=1)\n",
    "\n",
    "LABEL.build_vocab(train_data)"
   ]
  },
  {
   "cell_type": "code",
   "execution_count": 97,
   "metadata": {
    "id": "IhkI4xD1iKX_"
   },
   "outputs": [],
   "source": [
    "BATCH_SIZE = 32\n",
    "train_iterator, valid_iterator, test_iterator = BucketIterator.splits(\n",
    "    (train_data, valid_data, test_data),\n",
    "    batch_size = BATCH_SIZE,\n",
    "    device = device,\n",
    "    sort_key=lambda x: len(x.text),\n",
    "    sort_within_batch = True\n",
    "    )"
   ]
  },
  {
   "cell_type": "code",
   "execution_count": 98,
   "metadata": {
    "id": "tj6AsZHH1MHM"
   },
   "outputs": [],
   "source": [
    "from transformers import BertTokenizer, BertModel\n",
    "bert = BertModel.from_pretrained('bert-base-uncased')"
   ]
  },
  {
   "cell_type": "code",
   "execution_count": 99,
   "metadata": {
    "id": "qnkNmgE2iKc7"
   },
   "outputs": [],
   "source": [
    "import torch.nn as nn\n",
    "import torch.nn.functional as F\n",
    "class CNN(nn.Module):\n",
    "    def __init__(self,bert, vocab_size, n_filters, filter_sizes, output_dim,\n",
    "                 dropout, pad_idx):\n",
    "        super().__init__()\n",
    "        self.bert = bert\n",
    "        embedding_dim = bert.config.to_dict()['hidden_size']\n",
    "        self.embedding = nn.Embedding(vocab_size, embedding_dim, padding_idx = pad_idx)\n",
    "        self.convs = nn.ModuleList([\n",
    "                                    nn.Conv2d(in_channels = 1,\n",
    "                                              out_channels = n_filters,\n",
    "                                              kernel_size = (fs, embedding_dim))\n",
    "                                    for fs in filter_sizes\n",
    "                                    ])\n",
    "        self.fc = nn.Linear(len(filter_sizes) * n_filters, output_dim)\n",
    "        self.dropout = nn.Dropout(dropout)\n",
    "\n",
    "    def forward(self, text):\n",
    "        with torch.no_grad():\n",
    "            embedded = self.bert(text)[0]\n",
    "        embedded = embedded.unsqueeze(1)\n",
    "        conved = [F.relu(conv(embedded)).squeeze(3) for conv in self.convs]\n",
    "        pooled = [F.max_pool1d(conv, conv.shape[2]).squeeze(2) for conv in conved]\n",
    "        cat = self.dropout(torch.cat(pooled, dim = 1))\n",
    "        return self.fc(cat)"
   ]
  },
  {
   "cell_type": "code",
   "execution_count": 100,
   "metadata": {
    "id": "4ayN9RxuiKfl"
   },
   "outputs": [],
   "source": [
    "INPUT_DIM = len(TEXT.vocab)\n",
    "N_FILTERS = 100\n",
    "FILTER_SIZES = [3,4,5]\n",
    "OUTPUT_DIM = 1\n",
    "DROPOUT = 0.5\n",
    "PAD_IDX = TEXT.vocab.stoi[TEXT.pad_token]\n",
    "\n",
    "device = torch.device('cuda' if torch.cuda.is_available() else 'cpu')\n",
    "\n",
    "model = CNN(bert,INPUT_DIM, N_FILTERS, FILTER_SIZES, OUTPUT_DIM, DROPOUT, PAD_IDX)\n",
    "\n",
    "model = model.to(device)"
   ]
  },
  {
   "cell_type": "code",
   "execution_count": 101,
   "metadata": {
    "colab": {
     "base_uri": "https://localhost:8080/"
    },
    "id": "QzH6wTlOiKhs",
    "outputId": "6f3c2965-3919-46c7-bb78-2be3b6a8e7a5"
   },
   "outputs": [
    {
     "name": "stdout",
     "output_type": "stream",
     "text": [
      "The model has 120,062,041 trainable parameters\n"
     ]
    }
   ],
   "source": [
    "def count_parameters(model):\n",
    "    return sum(p.numel() for p in model.parameters() if p.requires_grad)\n",
    "\n",
    "print(f'The model has {count_parameters(model):,} trainable parameters')"
   ]
  },
  {
   "cell_type": "code",
   "execution_count": 102,
   "metadata": {
    "id": "XFVi9R8oiKkb"
   },
   "outputs": [],
   "source": [
    "for name, param in model.named_parameters():\n",
    "    if name.startswith('bert'):\n",
    "        param.requires_grad = False"
   ]
  },
  {
   "cell_type": "code",
   "execution_count": 103,
   "metadata": {
    "id": "SiAzeEwJiKsC"
   },
   "outputs": [],
   "source": [
    "import torch.optim as optim\n",
    "\n",
    "optimizer = optim.Adam(model.parameters())\n",
    "criterion = nn.BCEWithLogitsLoss()\n",
    "\n",
    "model = model.to(device)\n",
    "criterion = criterion.to(device)"
   ]
  },
  {
   "cell_type": "code",
   "execution_count": 104,
   "metadata": {
    "id": "No2WoXTECg5Y"
   },
   "outputs": [],
   "source": [
    "def binary_accuracy(preds, y):\n",
    "    rounded_preds = torch.round(torch.sigmoid(preds))\n",
    "    correct = (rounded_preds == y).float() #convert into float for division\n",
    "    acc = correct.sum() / len(correct)\n",
    "    return acc"
   ]
  },
  {
   "cell_type": "code",
   "execution_count": 105,
   "metadata": {
    "id": "IGujnIhMCg8I"
   },
   "outputs": [],
   "source": [
    "def train(model, iterator, optimizer, criterion):\n",
    "    epoch_loss = 0\n",
    "    epoch_acc = 0\n",
    "    model.train()\n",
    "    for batch in iterator:\n",
    "        optimizer.zero_grad()\n",
    "        text = batch.text\n",
    "        predictions = model(text)\n",
    "        loss = criterion(predictions, batch.label.unsqueeze(1))\n",
    "        acc = binary_accuracy(predictions, batch.label.unsqueeze(1))\n",
    "        loss.backward()\n",
    "        optimizer.step()\n",
    "        epoch_loss += loss.item()\n",
    "        epoch_acc += acc.item()\n",
    "    return epoch_loss / len(iterator), epoch_acc / len(iterator)\n",
    "\n",
    "def evaluate(model, iterator, criterion):\n",
    "    epoch_loss = 0\n",
    "    epoch_acc = 0\n",
    "    model.eval()\n",
    "    with torch.no_grad():\n",
    "        for batch in iterator:\n",
    "            text = batch.text\n",
    "            predictions = model(text)\n",
    "            loss = criterion(predictions, batch.label.unsqueeze(1))\n",
    "            acc = binary_accuracy(predictions, batch.label.unsqueeze(1))\n",
    "            epoch_loss += loss.item()\n",
    "            epoch_acc += acc.item()\n",
    "    return epoch_loss / len(iterator), epoch_acc / len(iterator)"
   ]
  },
  {
   "cell_type": "code",
   "execution_count": 106,
   "metadata": {
    "id": "bdRSZfKPChDV"
   },
   "outputs": [],
   "source": [
    "def epoch_time(start_time, end_time):\n",
    "    elapsed_time = end_time - start_time\n",
    "    elapsed_mins = int(elapsed_time / 60)\n",
    "    elapsed_secs = int(elapsed_time - (elapsed_mins * 60))\n",
    "    return elapsed_mins, elapsed_secs"
   ]
  },
  {
   "cell_type": "code",
   "execution_count": 107,
   "metadata": {
    "colab": {
     "base_uri": "https://localhost:8080/"
    },
    "id": "479-i2R5ChHI",
    "outputId": "1861c761-cbd4-43ed-b204-857d2a72c3db"
   },
   "outputs": [
    {
     "name": "stdout",
     "output_type": "stream",
     "text": [
      "Epoch: 01 | Epoch Time: 1m 4s\n",
      "\tTrain Loss: 0.446 | Train Acc: 84.82%\n",
      "\t Val. Loss: 0.535 |  Val. Acc: 86.05%\n",
      "Epoch: 02 | Epoch Time: 1m 4s\n",
      "\tTrain Loss: 0.357 | Train Acc: 85.45%\n",
      "\t Val. Loss: 0.342 |  Val. Acc: 86.05%\n",
      "Epoch: 03 | Epoch Time: 1m 4s\n",
      "\tTrain Loss: 0.316 | Train Acc: 86.85%\n",
      "\t Val. Loss: 0.376 |  Val. Acc: 86.27%\n",
      "Epoch: 04 | Epoch Time: 1m 4s\n",
      "\tTrain Loss: 0.300 | Train Acc: 86.62%\n",
      "\t Val. Loss: 0.323 |  Val. Acc: 85.83%\n",
      "Epoch: 05 | Epoch Time: 1m 5s\n",
      "\tTrain Loss: 0.283 | Train Acc: 87.89%\n",
      "\t Val. Loss: 0.366 |  Val. Acc: 86.72%\n",
      "Epoch: 06 | Epoch Time: 1m 4s\n",
      "\tTrain Loss: 0.260 | Train Acc: 89.18%\n",
      "\t Val. Loss: 0.331 |  Val. Acc: 84.71%\n",
      "Epoch: 07 | Epoch Time: 1m 4s\n",
      "\tTrain Loss: 0.252 | Train Acc: 89.86%\n",
      "\t Val. Loss: 0.304 |  Val. Acc: 86.61%\n",
      "Epoch: 08 | Epoch Time: 1m 5s\n",
      "\tTrain Loss: 0.221 | Train Acc: 90.37%\n",
      "\t Val. Loss: 0.329 |  Val. Acc: 86.38%\n",
      "Epoch: 09 | Epoch Time: 1m 4s\n",
      "\tTrain Loss: 0.221 | Train Acc: 90.98%\n",
      "\t Val. Loss: 0.349 |  Val. Acc: 86.50%\n",
      "Epoch: 10 | Epoch Time: 1m 4s\n",
      "\tTrain Loss: 0.178 | Train Acc: 93.02%\n",
      "\t Val. Loss: 0.324 |  Val. Acc: 86.05%\n"
     ]
    }
   ],
   "source": [
    "N_EPOCHS = 10\n",
    "\n",
    "best_valid_loss = float('inf')\n",
    "\n",
    "train_losses = []\n",
    "valid_losses = []\n",
    "train_accuracies = []\n",
    "valid_accuracies = []\n",
    "\n",
    "for epoch in range(N_EPOCHS):\n",
    "\n",
    "    start_time = time.time()\n",
    "\n",
    "    train_loss, train_acc = train(model, train_iterator, optimizer, criterion)\n",
    "    valid_loss, valid_acc = evaluate(model, valid_iterator, criterion)\n",
    "\n",
    "    train_losses.append(train_loss)\n",
    "    valid_losses.append(valid_loss)\n",
    "\n",
    "    train_accuracies.append(train_acc)\n",
    "    valid_accuracies.append(valid_acc)\n",
    "\n",
    "    end_time = time.time()\n",
    "\n",
    "    epoch_mins, epoch_secs = epoch_time(start_time, end_time)\n",
    "\n",
    "    if valid_loss < best_valid_loss:\n",
    "        best_valid_loss = valid_loss\n",
    "        torch.save(model.state_dict(), 'tut6-model.pt')\n",
    "\n",
    "    print(f'Epoch: {epoch+1:02} | Epoch Time: {epoch_mins}m {epoch_secs}s')\n",
    "    print(f'\\tTrain Loss: {train_loss:.3f} | Train Acc: {train_acc*100:.2f}%')\n",
    "    print(f'\\t Val. Loss: {valid_loss:.3f} |  Val. Acc: {valid_acc*100:.2f}%')"
   ]
  },
  {
   "cell_type": "code",
   "execution_count": 108,
   "metadata": {
    "colab": {
     "base_uri": "https://localhost:8080/",
     "height": 500
    },
    "id": "7U4QmaAlChJd",
    "outputId": "b910f616-0d52-4433-cd7c-8e2d75ea77e0"
   },
   "outputs": [
    {
     "data": {
      "image/png": "[encoded data removed]",
      "text/plain": [
       "<Figure size 640x480 with 1 Axes>"
      ]
     },
     "metadata": {},
     "output_type": "display_data"
    }
   ],
   "source": [
    "epochs = range(1, N_EPOCHS + 1)\n",
    "\n",
    "plt.plot(epochs, train_losses, label='Training')\n",
    "plt.plot(epochs, valid_losses, label='Validation')\n",
    "plt.xlabel('Epoch',fontsize=25)\n",
    "plt.ylabel('Loss', fontsize=25)\n",
    "\n",
    "# Increase the font size of x and y tick labels\n",
    "plt.xticks(fontsize=25)\n",
    "plt.yticks(fontsize=25)\n",
    "\n",
    "plt.legend(fontsize=25)\n",
    "plt.show()"
   ]
  },
  {
   "cell_type": "code",
   "execution_count": 109,
   "metadata": {
    "colab": {
     "base_uri": "https://localhost:8080/",
     "height": 489
    },
    "id": "7798csY-8vFJ",
    "outputId": "3bde5657-554f-4060-9b41-03e17c7c7700"
   },
   "outputs": [
    {
     "data": {
      "image/png": "[encoded data removed]",
      "text/plain": [
       "<Figure size 640x480 with 1 Axes>"
      ]
     },
     "metadata": {},
     "output_type": "display_data"
    }
   ],
   "source": [
    "epochs = range(1, N_EPOCHS + 1)\n",
    "\n",
    "plt.plot(epochs, train_accuracies, label='Training')\n",
    "plt.plot(epochs, valid_accuracies, label='Validation')\n",
    "plt.xlabel('Epoch',fontsize=25)\n",
    "plt.ylabel('Accuracy',fontsize=25)\n",
    "plt.xticks(fontsize=25)\n",
    "plt.yticks(fontsize=25)\n",
    "plt.legend(fontsize=25)\n",
    "plt.show()"
   ]
  },
  {
   "cell_type": "code",
   "execution_count": 110,
   "metadata": {
    "id": "9Iqk4gjeE7L2"
   },
   "outputs": [],
   "source": [
    "from sklearn.metrics import accuracy_score, classification_report, confusion_matrix\n",
    "import warnings\n",
    "warnings.filterwarnings('ignore')\n",
    "def calc_report(model, iterator, criterion):\n",
    "\n",
    "    epoch_loss = 0\n",
    "    epoch_acc = 0\n",
    "    y_pred = []\n",
    "    y_true = []\n",
    "    model.eval()\n",
    "    with torch.no_grad():\n",
    "        for batch in iterator:\n",
    "            text = batch.text\n",
    "            predictions = model(text)\n",
    "            threshold = 0.5\n",
    "            output_1 = (predictions > threshold).int()\n",
    "            y_pred.extend(output_1.tolist())\n",
    "            y_true.extend(batch.label.tolist())\n",
    "            loss = criterion(predictions, batch.label.unsqueeze(1))\n",
    "            acc = binary_accuracy(predictions, batch.label.unsqueeze(1))\n",
    "            epoch_loss += loss.item()\n",
    "            epoch_acc += acc.item()\n",
    "            rep = classification_report(y_true, y_pred, labels=[1,0], digits=2)\n",
    "    return rep\n",
    "\n",
    "\n",
    "\n"
   ]
  },
  {
   "cell_type": "code",
   "execution_count": 111,
   "metadata": {
    "colab": {
     "base_uri": "https://localhost:8080/"
    },
    "id": "UU14B28gE7Sj",
    "outputId": "d9f69742-5ac9-4ee6-cb33-5a98667d8b68"
   },
   "outputs": [
    {
     "name": "stdout",
     "output_type": "stream",
     "text": [
      "              precision    recall  f1-score   support\n",
      "\n",
      "           1       0.52      0.25      0.34       112\n",
      "           0       0.90      0.97      0.93       757\n",
      "\n",
      "    accuracy                           0.87       869\n",
      "   macro avg       0.71      0.61      0.63       869\n",
      "weighted avg       0.85      0.87      0.85       869\n",
      "\n"
     ]
    }
   ],
   "source": [
    "cal = calc_report(model, test_iterator, criterion)\n",
    "print(cal)"
   ]
  },
  {
   "cell_type": "markdown",
   "metadata": {
    "id": "aaU5SIyNGTBu"
   },
   "source": [
    "Reference for this code is below to this link.\n",
    "\n",
    "\n",
    "https://github.com/bentrevett/pytorch-sentiment-analysis/blob/master/6%20-%20Transformers%20for%20Sentiment%20Analysis.ipynb"
   ]
  },
  {
   "cell_type": "code",
   "execution_count": null,
   "metadata": {
    "colab": {
     "base_uri": "https://localhost:8080/"
    },
    "id": "M4OFfoH4JwWk",
    "outputId": "a1d27189-c79f-49e9-f1bd-1a3f1cde9451"
   },
   "outputs": [
    {
     "name": "stdout",
     "output_type": "stream",
     "text": [
      "Number of testing examples: 74768\n"
     ]
    }
   ],
   "source": [
    "model.load_state_dict(torch.load('tut6-model.pt'))\n",
    "unannotated_original = pd.read_csv('social_media_posts_full.csv')  # Replace 'unannotated_file.xlsx' with your file path\n",
    "\n",
    "unannotated_df = unannotated_original.rename(columns={'label_minority_coping': 'label'})\n",
    "unannotated_df = unannotated_df[['posts_comments', 'label']]\n",
    "unannotated_df['label'] = 0\n",
    "\n",
    "unannotated_df.to_csv('anno.csv', index=False)\n",
    "\n",
    "\n",
    "\n",
    "\n",
    "from torchtext.data import Iterator\n",
    "\n",
    "\n",
    "# Define the fields\n",
    "fields=[('posts_comments', TEXT)]\n",
    "\n",
    "# Create the TabularDataset for the test set\n",
    "data = TabularDataset(\n",
    "    path= 'anno.csv',\n",
    "    format='csv',\n",
    "    fields=fields,\n",
    "    skip_header=True\n",
    ")\n",
    "\n",
    "\n",
    "\n",
    "\n",
    "BATCH_SIZE = 32\n",
    "\n",
    "anno_iterator = Iterator(\n",
    "    data,\n",
    "    batch_size=BATCH_SIZE,\n",
    "    sort_within_batch=False,\n",
    "    shuffle=False,  # Do not shuffle test set\n",
    "    device=device\n",
    ")\n",
    "\n",
    "\n",
    "print('Number of testing examples: {}'.format(len(data)))\n",
    "\n",
    "y_pred = []\n",
    "\n",
    "model.eval()\n",
    "with torch.no_grad():\n",
    "    for batch in anno_iterator:\n",
    "        text = batch.posts_comments\n",
    "        predictions = model(text)\n",
    "        threshold = 0.5\n",
    "        output_1 = (predictions > threshold).int()\n",
    "        y_pred.extend(output_1.tolist())\n",
    "\n",
    "# Write the predictions back to the original DataFrame without brackets\n",
    "unannotated_original['label_minority_coping'] = [item[0] for item in y_pred]\n",
    "# Save the DataFrame with predictions to a new CSV file\n",
    "unannotated_original.to_csv('social_media_posts_full.csv', index=False)\n",
    "\n",
    "\n",
    "\n",
    "\n",
    "\n",
    "\n",
    "\n",
    "\n",
    "\n",
    "\n",
    "\n"
   ]
  },
  {
   "cell_type": "code",
   "execution_count": null,
   "metadata": {
    "id": "2huYL_yfJwja"
   },
   "outputs": [],
   "source": []
  },
  {
   "cell_type": "code",
   "execution_count": null,
   "metadata": {
    "id": "EUiaDQ4cJwmu"
   },
   "outputs": [],
   "source": []
  }
 ],
 "metadata": {
  "accelerator": "GPU",
  "colab": {
   "gpuType": "T4",
   "provenance": []
  },
  "gpuClass": "standard",
  "kernelspec": {
   "display_name": "Python 3 (ipykernel)",
   "language": "python",
   "name": "python3"
  },
  "language_info": {
   "codemirror_mode": {
    "name": "ipython",
    "version": 3
   },
   "file_extension": ".py",
   "mimetype": "text/x-python",
   "name": "python",
   "nbconvert_exporter": "python",
   "pygments_lexer": "ipython3",
   "version": "3.9.12"
  }
 },
 "nbformat": 4,
 "nbformat_minor": 1
}
